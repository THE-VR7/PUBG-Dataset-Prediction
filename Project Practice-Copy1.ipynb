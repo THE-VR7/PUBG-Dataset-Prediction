{
 "cells": [
  {
   "cell_type": "code",
   "execution_count": 2,
   "metadata": {},
   "outputs": [],
   "source": [
    "import pandas as pd\n",
    "import numpy as np\n",
    "import matplotlib.pyplot as plt\n",
    "%matplotlib inline\n",
    "import warnings \n",
    "warnings.filterwarnings('ignore')\n",
    "import seaborn as sns\n",
    "import random\n",
    "random.seed(42)\n"
   ]
  },
  {
   "cell_type": "code",
   "execution_count": 56,
   "metadata": {},
   "outputs": [],
   "source": [
    "from sklearn.model_selection import train_test_split\n",
    "from sklearn.metrics import mean_absolute_error, r2_score\n",
    "from lightgbm import LGBMRegressor\n",
    "import gc\n",
    "from sklearn.linear_model import LinearRegression, Ridge, Lasso, ElasticNet\n",
    "from sklearn.tree import DecisionTreeRegressor\n",
    "from sklearn.ensemble import RandomForestRegressor, AdaBoostRegressor, GradientBoostingRegressor"
   ]
  },
  {
   "cell_type": "code",
   "execution_count": 3,
   "metadata": {},
   "outputs": [],
   "source": [
    "def reduce_mem_usage(df):\n",
    "    \"\"\" iterate through all the columns of a dataframe and modify the data type\n",
    "        to reduce memory usage. \n",
    "        # Memory saving function credit to https://www.kaggle.com/gemartin/load-data-reduce-memory-usage       \n",
    "    \"\"\"\n",
    "    import numpy as np\n",
    "\n",
    "    for col in df.columns:\n",
    "        col_type = df[col].dtype\n",
    "\n",
    "        if col_type != object:\n",
    "            c_min = df[col].min()\n",
    "            c_max = df[col].max()\n",
    "            if str(col_type)[:3] == 'int':\n",
    "                if c_min > np.iinfo(np.int8).min and c_max < np.iinfo(np.int8).max:\n",
    "                    df[col] = df[col].astype(np.int8)\n",
    "                elif c_min > np.iinfo(np.int16).min and c_max < np.iinfo(np.int16).max:\n",
    "                    df[col] = df[col].astype(np.int16)\n",
    "                elif c_min > np.iinfo(np.int32).min and c_max < np.iinfo(np.int32).max:\n",
    "                    df[col] = df[col].astype(np.int32)\n",
    "                elif c_min > np.iinfo(np.int64).min and c_max < np.iinfo(np.int64).max:\n",
    "                    df[col] = df[col].astype(np.int64)  \n",
    "            else:\n",
    "                if c_min > np.finfo(np.float16).min and c_max < np.finfo(np.float16).max:\n",
    "                    df[col] = df[col].astype(np.float16)\n",
    "                elif c_min > np.finfo(np.float32).min and c_max < np.finfo(np.float32).max:\n",
    "                    df[col] = df[col].astype(np.float32)\n",
    "                else:\n",
    "                    df[col] = df[col].astype(np.float64)\n",
    "\n",
    "    return df"
   ]
  },
  {
   "cell_type": "code",
   "execution_count": 4,
   "metadata": {},
   "outputs": [
    {
     "name": "stdout",
     "output_type": "stream",
     "text": [
      "<class 'pandas.core.frame.DataFrame'>\n",
      "RangeIndex: 4446966 entries, 0 to 4446965\n",
      "Data columns (total 29 columns):\n",
      "Id                 object\n",
      "groupId            object\n",
      "matchId            object\n",
      "assists            int64\n",
      "boosts             int64\n",
      "damageDealt        float64\n",
      "DBNOs              int64\n",
      "headshotKills      int64\n",
      "heals              int64\n",
      "killPlace          int64\n",
      "killPoints         int64\n",
      "kills              int64\n",
      "killStreaks        int64\n",
      "longestKill        float64\n",
      "matchDuration      int64\n",
      "matchType          object\n",
      "maxPlace           int64\n",
      "numGroups          int64\n",
      "rankPoints         int64\n",
      "revives            int64\n",
      "rideDistance       float64\n",
      "roadKills          int64\n",
      "swimDistance       float64\n",
      "teamKills          int64\n",
      "vehicleDestroys    int64\n",
      "walkDistance       float64\n",
      "weaponsAcquired    int64\n",
      "winPoints          int64\n",
      "winPlacePerc       float64\n",
      "dtypes: float64(6), int64(19), object(4)\n",
      "memory usage: 983.9+ MB\n"
     ]
    }
   ],
   "source": [
    "df_train = pd.read_csv('train_V2.csv')\n",
    "df_train.info()"
   ]
  },
  {
   "cell_type": "code",
   "execution_count": 5,
   "metadata": {},
   "outputs": [],
   "source": [
    "df_train = reduce_mem_usage(df_train)"
   ]
  },
  {
   "cell_type": "code",
   "execution_count": 6,
   "metadata": {},
   "outputs": [
    {
     "name": "stdout",
     "output_type": "stream",
     "text": [
      "<class 'pandas.core.frame.DataFrame'>\n",
      "RangeIndex: 4446966 entries, 0 to 4446965\n",
      "Data columns (total 29 columns):\n",
      "Id                 object\n",
      "groupId            object\n",
      "matchId            object\n",
      "assists            int8\n",
      "boosts             int8\n",
      "damageDealt        float16\n",
      "DBNOs              int8\n",
      "headshotKills      int8\n",
      "heals              int8\n",
      "killPlace          int8\n",
      "killPoints         int16\n",
      "kills              int8\n",
      "killStreaks        int8\n",
      "longestKill        float16\n",
      "matchDuration      int16\n",
      "matchType          object\n",
      "maxPlace           int8\n",
      "numGroups          int8\n",
      "rankPoints         int16\n",
      "revives            int8\n",
      "rideDistance       float16\n",
      "roadKills          int8\n",
      "swimDistance       float16\n",
      "teamKills          int8\n",
      "vehicleDestroys    int8\n",
      "walkDistance       float16\n",
      "weaponsAcquired    int16\n",
      "winPoints          int16\n",
      "winPlacePerc       float16\n",
      "dtypes: float16(6), int16(5), int8(14), object(4)\n",
      "memory usage: 288.4+ MB\n"
     ]
    }
   ],
   "source": [
    "df_train.info()"
   ]
  },
  {
   "cell_type": "code",
   "execution_count": 7,
   "metadata": {},
   "outputs": [],
   "source": [
    "pd.set_option('display.max_columns', 500)"
   ]
  },
  {
   "cell_type": "code",
   "execution_count": 8,
   "metadata": {
    "scrolled": true
   },
   "outputs": [
    {
     "data": {
      "text/html": [
       "<div>\n",
       "<style scoped>\n",
       "    .dataframe tbody tr th:only-of-type {\n",
       "        vertical-align: middle;\n",
       "    }\n",
       "\n",
       "    .dataframe tbody tr th {\n",
       "        vertical-align: top;\n",
       "    }\n",
       "\n",
       "    .dataframe thead th {\n",
       "        text-align: right;\n",
       "    }\n",
       "</style>\n",
       "<table border=\"1\" class=\"dataframe\">\n",
       "  <thead>\n",
       "    <tr style=\"text-align: right;\">\n",
       "      <th></th>\n",
       "      <th>Id</th>\n",
       "      <th>groupId</th>\n",
       "      <th>matchId</th>\n",
       "      <th>assists</th>\n",
       "      <th>boosts</th>\n",
       "      <th>damageDealt</th>\n",
       "      <th>DBNOs</th>\n",
       "      <th>headshotKills</th>\n",
       "      <th>heals</th>\n",
       "      <th>killPlace</th>\n",
       "      <th>killPoints</th>\n",
       "      <th>kills</th>\n",
       "      <th>killStreaks</th>\n",
       "      <th>longestKill</th>\n",
       "      <th>matchDuration</th>\n",
       "      <th>matchType</th>\n",
       "      <th>maxPlace</th>\n",
       "      <th>numGroups</th>\n",
       "      <th>rankPoints</th>\n",
       "      <th>revives</th>\n",
       "      <th>rideDistance</th>\n",
       "      <th>roadKills</th>\n",
       "      <th>swimDistance</th>\n",
       "      <th>teamKills</th>\n",
       "      <th>vehicleDestroys</th>\n",
       "      <th>walkDistance</th>\n",
       "      <th>weaponsAcquired</th>\n",
       "      <th>winPoints</th>\n",
       "      <th>winPlacePerc</th>\n",
       "    </tr>\n",
       "  </thead>\n",
       "  <tbody>\n",
       "    <tr>\n",
       "      <th>0</th>\n",
       "      <td>7f96b2f878858a</td>\n",
       "      <td>4d4b580de459be</td>\n",
       "      <td>a10357fd1a4a91</td>\n",
       "      <td>0</td>\n",
       "      <td>0</td>\n",
       "      <td>0.00000</td>\n",
       "      <td>0</td>\n",
       "      <td>0</td>\n",
       "      <td>0</td>\n",
       "      <td>60</td>\n",
       "      <td>1241</td>\n",
       "      <td>0</td>\n",
       "      <td>0</td>\n",
       "      <td>0.00000</td>\n",
       "      <td>1306</td>\n",
       "      <td>squad-fpp</td>\n",
       "      <td>28</td>\n",
       "      <td>26</td>\n",
       "      <td>-1</td>\n",
       "      <td>0</td>\n",
       "      <td>0.000000</td>\n",
       "      <td>0</td>\n",
       "      <td>0.000000</td>\n",
       "      <td>0</td>\n",
       "      <td>0</td>\n",
       "      <td>244.75</td>\n",
       "      <td>1</td>\n",
       "      <td>1466</td>\n",
       "      <td>0.444336</td>\n",
       "    </tr>\n",
       "    <tr>\n",
       "      <th>1</th>\n",
       "      <td>eef90569b9d03c</td>\n",
       "      <td>684d5656442f9e</td>\n",
       "      <td>aeb375fc57110c</td>\n",
       "      <td>0</td>\n",
       "      <td>0</td>\n",
       "      <td>91.50000</td>\n",
       "      <td>0</td>\n",
       "      <td>0</td>\n",
       "      <td>0</td>\n",
       "      <td>57</td>\n",
       "      <td>0</td>\n",
       "      <td>0</td>\n",
       "      <td>0</td>\n",
       "      <td>0.00000</td>\n",
       "      <td>1777</td>\n",
       "      <td>squad-fpp</td>\n",
       "      <td>26</td>\n",
       "      <td>25</td>\n",
       "      <td>1484</td>\n",
       "      <td>0</td>\n",
       "      <td>0.004501</td>\n",
       "      <td>0</td>\n",
       "      <td>11.039062</td>\n",
       "      <td>0</td>\n",
       "      <td>0</td>\n",
       "      <td>1434.00</td>\n",
       "      <td>5</td>\n",
       "      <td>0</td>\n",
       "      <td>0.640137</td>\n",
       "    </tr>\n",
       "    <tr>\n",
       "      <th>2</th>\n",
       "      <td>1eaf90ac73de72</td>\n",
       "      <td>6a4a42c3245a74</td>\n",
       "      <td>110163d8bb94ae</td>\n",
       "      <td>1</td>\n",
       "      <td>0</td>\n",
       "      <td>68.00000</td>\n",
       "      <td>0</td>\n",
       "      <td>0</td>\n",
       "      <td>0</td>\n",
       "      <td>47</td>\n",
       "      <td>0</td>\n",
       "      <td>0</td>\n",
       "      <td>0</td>\n",
       "      <td>0.00000</td>\n",
       "      <td>1318</td>\n",
       "      <td>duo</td>\n",
       "      <td>50</td>\n",
       "      <td>47</td>\n",
       "      <td>1491</td>\n",
       "      <td>0</td>\n",
       "      <td>0.000000</td>\n",
       "      <td>0</td>\n",
       "      <td>0.000000</td>\n",
       "      <td>0</td>\n",
       "      <td>0</td>\n",
       "      <td>161.75</td>\n",
       "      <td>2</td>\n",
       "      <td>0</td>\n",
       "      <td>0.775391</td>\n",
       "    </tr>\n",
       "    <tr>\n",
       "      <th>3</th>\n",
       "      <td>4616d365dd2853</td>\n",
       "      <td>a930a9c79cd721</td>\n",
       "      <td>f1f1f4ef412d7e</td>\n",
       "      <td>0</td>\n",
       "      <td>0</td>\n",
       "      <td>32.90625</td>\n",
       "      <td>0</td>\n",
       "      <td>0</td>\n",
       "      <td>0</td>\n",
       "      <td>75</td>\n",
       "      <td>0</td>\n",
       "      <td>0</td>\n",
       "      <td>0</td>\n",
       "      <td>0.00000</td>\n",
       "      <td>1436</td>\n",
       "      <td>squad-fpp</td>\n",
       "      <td>31</td>\n",
       "      <td>30</td>\n",
       "      <td>1408</td>\n",
       "      <td>0</td>\n",
       "      <td>0.000000</td>\n",
       "      <td>0</td>\n",
       "      <td>0.000000</td>\n",
       "      <td>0</td>\n",
       "      <td>0</td>\n",
       "      <td>202.75</td>\n",
       "      <td>3</td>\n",
       "      <td>0</td>\n",
       "      <td>0.166748</td>\n",
       "    </tr>\n",
       "    <tr>\n",
       "      <th>4</th>\n",
       "      <td>315c96c26c9aac</td>\n",
       "      <td>de04010b3458dd</td>\n",
       "      <td>6dc8ff871e21e6</td>\n",
       "      <td>0</td>\n",
       "      <td>0</td>\n",
       "      <td>100.00000</td>\n",
       "      <td>0</td>\n",
       "      <td>0</td>\n",
       "      <td>0</td>\n",
       "      <td>45</td>\n",
       "      <td>0</td>\n",
       "      <td>1</td>\n",
       "      <td>1</td>\n",
       "      <td>58.53125</td>\n",
       "      <td>1424</td>\n",
       "      <td>solo-fpp</td>\n",
       "      <td>97</td>\n",
       "      <td>95</td>\n",
       "      <td>1560</td>\n",
       "      <td>0</td>\n",
       "      <td>0.000000</td>\n",
       "      <td>0</td>\n",
       "      <td>0.000000</td>\n",
       "      <td>0</td>\n",
       "      <td>0</td>\n",
       "      <td>49.75</td>\n",
       "      <td>2</td>\n",
       "      <td>0</td>\n",
       "      <td>0.187500</td>\n",
       "    </tr>\n",
       "  </tbody>\n",
       "</table>\n",
       "</div>"
      ],
      "text/plain": [
       "               Id         groupId         matchId  assists  boosts  \\\n",
       "0  7f96b2f878858a  4d4b580de459be  a10357fd1a4a91        0       0   \n",
       "1  eef90569b9d03c  684d5656442f9e  aeb375fc57110c        0       0   \n",
       "2  1eaf90ac73de72  6a4a42c3245a74  110163d8bb94ae        1       0   \n",
       "3  4616d365dd2853  a930a9c79cd721  f1f1f4ef412d7e        0       0   \n",
       "4  315c96c26c9aac  de04010b3458dd  6dc8ff871e21e6        0       0   \n",
       "\n",
       "   damageDealt  DBNOs  headshotKills  heals  killPlace  killPoints  kills  \\\n",
       "0      0.00000      0              0      0         60        1241      0   \n",
       "1     91.50000      0              0      0         57           0      0   \n",
       "2     68.00000      0              0      0         47           0      0   \n",
       "3     32.90625      0              0      0         75           0      0   \n",
       "4    100.00000      0              0      0         45           0      1   \n",
       "\n",
       "   killStreaks  longestKill  matchDuration  matchType  maxPlace  numGroups  \\\n",
       "0            0      0.00000           1306  squad-fpp        28         26   \n",
       "1            0      0.00000           1777  squad-fpp        26         25   \n",
       "2            0      0.00000           1318        duo        50         47   \n",
       "3            0      0.00000           1436  squad-fpp        31         30   \n",
       "4            1     58.53125           1424   solo-fpp        97         95   \n",
       "\n",
       "   rankPoints  revives  rideDistance  roadKills  swimDistance  teamKills  \\\n",
       "0          -1        0      0.000000          0      0.000000          0   \n",
       "1        1484        0      0.004501          0     11.039062          0   \n",
       "2        1491        0      0.000000          0      0.000000          0   \n",
       "3        1408        0      0.000000          0      0.000000          0   \n",
       "4        1560        0      0.000000          0      0.000000          0   \n",
       "\n",
       "   vehicleDestroys  walkDistance  weaponsAcquired  winPoints  winPlacePerc  \n",
       "0                0        244.75                1       1466      0.444336  \n",
       "1                0       1434.00                5          0      0.640137  \n",
       "2                0        161.75                2          0      0.775391  \n",
       "3                0        202.75                3          0      0.166748  \n",
       "4                0         49.75                2          0      0.187500  "
      ]
     },
     "execution_count": 8,
     "metadata": {},
     "output_type": "execute_result"
    }
   ],
   "source": [
    "df_train.head()"
   ]
  },
  {
   "cell_type": "code",
   "execution_count": 9,
   "metadata": {},
   "outputs": [],
   "source": [
    "df_test = pd.read_csv('test_V2.csv')"
   ]
  },
  {
   "cell_type": "code",
   "execution_count": 11,
   "metadata": {},
   "outputs": [],
   "source": [
    "df_test = reduce_mem_usage(df_test)"
   ]
  },
  {
   "cell_type": "code",
   "execution_count": 12,
   "metadata": {},
   "outputs": [
    {
     "data": {
      "text/plain": [
       "Id                 0\n",
       "groupId            0\n",
       "matchId            0\n",
       "assists            0\n",
       "boosts             0\n",
       "damageDealt        0\n",
       "DBNOs              0\n",
       "headshotKills      0\n",
       "heals              0\n",
       "killPlace          0\n",
       "killPoints         0\n",
       "kills              0\n",
       "killStreaks        0\n",
       "longestKill        0\n",
       "matchDuration      0\n",
       "matchType          0\n",
       "maxPlace           0\n",
       "numGroups          0\n",
       "rankPoints         0\n",
       "revives            0\n",
       "rideDistance       0\n",
       "roadKills          0\n",
       "swimDistance       0\n",
       "teamKills          0\n",
       "vehicleDestroys    0\n",
       "walkDistance       0\n",
       "weaponsAcquired    0\n",
       "winPoints          0\n",
       "winPlacePerc       1\n",
       "dtype: int64"
      ]
     },
     "execution_count": 12,
     "metadata": {},
     "output_type": "execute_result"
    }
   ],
   "source": [
    "#Removing NAN values from the dataset\n",
    "df_train.isnull().sum()"
   ]
  },
  {
   "cell_type": "code",
   "execution_count": 13,
   "metadata": {},
   "outputs": [],
   "source": [
    "df_train.dropna(inplace=True)"
   ]
  },
  {
   "cell_type": "code",
   "execution_count": 14,
   "metadata": {
    "scrolled": true
   },
   "outputs": [
    {
     "data": {
      "text/plain": [
       "Id                 0\n",
       "groupId            0\n",
       "matchId            0\n",
       "assists            0\n",
       "boosts             0\n",
       "damageDealt        0\n",
       "DBNOs              0\n",
       "headshotKills      0\n",
       "heals              0\n",
       "killPlace          0\n",
       "killPoints         0\n",
       "kills              0\n",
       "killStreaks        0\n",
       "longestKill        0\n",
       "matchDuration      0\n",
       "matchType          0\n",
       "maxPlace           0\n",
       "numGroups          0\n",
       "rankPoints         0\n",
       "revives            0\n",
       "rideDistance       0\n",
       "roadKills          0\n",
       "swimDistance       0\n",
       "teamKills          0\n",
       "vehicleDestroys    0\n",
       "walkDistance       0\n",
       "weaponsAcquired    0\n",
       "winPoints          0\n",
       "winPlacePerc       0\n",
       "dtype: int64"
      ]
     },
     "execution_count": 14,
     "metadata": {},
     "output_type": "execute_result"
    }
   ],
   "source": [
    "df_train.isnull().sum()"
   ]
  },
  {
   "cell_type": "code",
   "execution_count": 16,
   "metadata": {},
   "outputs": [
    {
     "name": "stdout",
     "output_type": "stream",
     "text": [
      "4446965\n",
      "1934174\n"
     ]
    }
   ],
   "source": [
    "print(len(df_train))\n",
    "print(len(df_test))"
   ]
  },
  {
   "cell_type": "markdown",
   "metadata": {},
   "source": [
    "# visualizations and Removing Outliers"
   ]
  },
  {
   "cell_type": "code",
   "execution_count": 17,
   "metadata": {},
   "outputs": [],
   "source": [
    "def visualization (col, num_bin=10):\n",
    "    title = col[0].upper() + col[1:]\n",
    "    f,axes=plt.subplots()\n",
    "    plt.xlabel(title)\n",
    "    plt.ylabel('Log Count')\n",
    "    axes.set_yscale('log')\n",
    "    df_train.hist(column=col,ax=axes,bins=num_bin)\n",
    "    plt.title('Histogram of ' + title)\n",
    "    plt.show()\n",
    "    \n",
    "    tmp = df_train[col].value_counts().sort_values(ascending=False)\n",
    "\n",
    "    print('Min value of ' + title + ' is: ',min(tmp.index))\n",
    "    print('Max value of ' + title + ' is: ',max(tmp.index))"
   ]
  },
  {
   "cell_type": "code",
   "execution_count": 21,
   "metadata": {},
   "outputs": [
    {
     "data": {
      "image/png": "[encoded data removed]",
      "text/plain": [
       "<Figure size 432x288 with 1 Axes>"
      ]
     },
     "metadata": {
      "needs_background": "light"
     },
     "output_type": "display_data"
    },
    {
     "name": "stdout",
     "output_type": "stream",
     "text": [
      "Min value of Assists is:  0\n",
      "Max value of Assists is:  22\n"
     ]
    }
   ],
   "source": [
    " visualization('assists')"
   ]
  },
  {
   "cell_type": "code",
   "execution_count": 22,
   "metadata": {
    "scrolled": true
   },
   "outputs": [
    {
     "data": {
      "image/png": "[encoded data removed]",
      "text/plain": [
       "<Figure size 432x288 with 1 Axes>"
      ]
     },
     "metadata": {
      "needs_background": "light"
     },
     "output_type": "display_data"
    },
    {
     "name": "stdout",
     "output_type": "stream",
     "text": [
      "Min value of RoadKills is:  0\n",
      "Max value of RoadKills is:  18\n"
     ]
    }
   ],
   "source": [
    "visualization('roadKills')"
   ]
  },
  {
   "cell_type": "code",
   "execution_count": 18,
   "metadata": {},
   "outputs": [],
   "source": [
    "# # since, most of the players have kills from  0 to 10 \n",
    "# so to remove the outliers from my data, we drop all the players who have more than 10 roadkills.\n",
    " # drop all the road kills above 10.\n",
    "\n",
    "\n",
    "#test\n",
    "\n",
    "df_train.drop(df_train[df_train['roadKills']>=10].index,inplace=True)\n",
    "\n",
    "#test \n",
    "\n",
    "df_test.drop(df_test[df_test['roadKills']>=10].index,inplace=True)\n"
   ]
  },
  {
   "cell_type": "code",
   "execution_count": 57,
   "metadata": {},
   "outputs": [
    {
     "data": {
      "image/png": "[encoded data removed]",
      "text/plain": [
       "<Figure size 432x288 with 1 Axes>"
      ]
     },
     "metadata": {
      "needs_background": "light"
     },
     "output_type": "display_data"
    },
    {
     "name": "stdout",
     "output_type": "stream",
     "text": [
      "Min value of Kills is:  0\n",
      "Max value of Kills is:  72\n"
     ]
    }
   ],
   "source": [
    "visualization('kills')"
   ]
  },
  {
   "cell_type": "code",
   "execution_count": 19,
   "metadata": {},
   "outputs": [],
   "source": [
    " # dropping the outliers.\n",
    "\n",
    "#train\n",
    "df_train.drop(df_train[df_train['kills']>=35].index,inplace=True)\n",
    "\n",
    "#test\n",
    "\n",
    "df_test.drop(df_test[df_test['kills']>=35].index,inplace=True)"
   ]
  },
  {
   "cell_type": "code",
   "execution_count": 23,
   "metadata": {},
   "outputs": [
    {
     "data": {
      "image/png": "[encoded data removed]",
      "text/plain": [
       "<Figure size 432x288 with 1 Axes>"
      ]
     },
     "metadata": {
      "needs_background": "light"
     },
     "output_type": "display_data"
    },
    {
     "name": "stdout",
     "output_type": "stream",
     "text": [
      "Min value of KillStreaks is:  0\n",
      "Max value of KillStreaks is:  20\n"
     ]
    }
   ],
   "source": [
    " visualization('killStreaks')"
   ]
  },
  {
   "cell_type": "code",
   "execution_count": 32,
   "metadata": {},
   "outputs": [
    {
     "data": {
      "image/png": "[encoded data removed]",
      "text/plain": [
       "<Figure size 432x288 with 1 Axes>"
      ]
     },
     "metadata": {
      "needs_background": "light"
     },
     "output_type": "display_data"
    },
    {
     "name": "stdout",
     "output_type": "stream",
     "text": [
      "Min value of TeamKills is:  0\n",
      "Max value of TeamKills is:  12\n"
     ]
    }
   ],
   "source": [
    "visualization('teamKills')"
   ]
  },
  {
   "cell_type": "code",
   "execution_count": 33,
   "metadata": {},
   "outputs": [
    {
     "data": {
      "image/png": "[encoded data removed]",
      "text/plain": [
       "<Figure size 432x288 with 1 Axes>"
      ]
     },
     "metadata": {
      "needs_background": "light"
     },
     "output_type": "display_data"
    },
    {
     "name": "stdout",
     "output_type": "stream",
     "text": [
      "Min value of HeadshotKills is:  0\n",
      "Max value of HeadshotKills is:  64\n"
     ]
    }
   ],
   "source": [
    "visualization('headshotKills', num_bin=40)"
   ]
  },
  {
   "cell_type": "code",
   "execution_count": 34,
   "metadata": {},
   "outputs": [
    {
     "data": {
      "image/png": "[encoded data removed]",
      "text/plain": [
       "<Figure size 432x288 with 1 Axes>"
      ]
     },
     "metadata": {
      "needs_background": "light"
     },
     "output_type": "display_data"
    },
    {
     "name": "stdout",
     "output_type": "stream",
     "text": [
      "Min value of VehicleDestroys is:  0\n",
      "Max value of VehicleDestroys is:  5\n"
     ]
    }
   ],
   "source": [
    " visualization('vehicleDestroys',num_bin=5)"
   ]
  },
  {
   "cell_type": "code",
   "execution_count": 35,
   "metadata": {},
   "outputs": [
    {
     "data": {
      "image/png": "[encoded data removed]",
      "text/plain": [
       "<Figure size 432x288 with 1 Axes>"
      ]
     },
     "metadata": {
      "needs_background": "light"
     },
     "output_type": "display_data"
    },
    {
     "name": "stdout",
     "output_type": "stream",
     "text": [
      "Min value of Revives is:  0\n",
      "Max value of Revives is:  39\n"
     ]
    }
   ],
   "source": [
    "visualization('revives',num_bin=50) "
   ]
  },
  {
   "cell_type": "code",
   "execution_count": 38,
   "metadata": {},
   "outputs": [
    {
     "data": {
      "image/png": "[encoded data removed]",
      "text/plain": [
       "<Figure size 432x288 with 1 Axes>"
      ]
     },
     "metadata": {
      "needs_background": "light"
     },
     "output_type": "display_data"
    },
    {
     "name": "stdout",
     "output_type": "stream",
     "text": [
      "Min value of DamageDealt is:  0.0\n",
      "Max value of DamageDealt is:  6616.0\n"
     ]
    }
   ],
   "source": [
    "visualization('damageDealt', num_bin=1000)"
   ]
  },
  {
   "cell_type": "code",
   "execution_count": 39,
   "metadata": {},
   "outputs": [
    {
     "data": {
      "image/png": "[encoded data removed]",
      "text/plain": [
       "<Figure size 432x288 with 1 Axes>"
      ]
     },
     "metadata": {
      "needs_background": "light"
     },
     "output_type": "display_data"
    },
    {
     "name": "stdout",
     "output_type": "stream",
     "text": [
      "Min value of WeaponsAcquired is:  0\n",
      "Max value of WeaponsAcquired is:  236\n"
     ]
    }
   ],
   "source": [
    "visualization('weaponsAcquired',num_bin=30)"
   ]
  },
  {
   "cell_type": "code",
   "execution_count": 20,
   "metadata": {},
   "outputs": [],
   "source": [
    " # removing the outliers.\n",
    "\n",
    "#train\n",
    "df_train.drop(df_train[df_train.weaponsAcquired>=50].index,inplace=True)\n",
    "\n",
    "#test\n",
    "df_test.drop(df_test[df_test.weaponsAcquired>=50].index,inplace=True)"
   ]
  },
  {
   "cell_type": "code",
   "execution_count": 40,
   "metadata": {},
   "outputs": [
    {
     "data": {
      "image/png": "[encoded data removed]",
      "text/plain": [
       "<Figure size 432x288 with 1 Axes>"
      ]
     },
     "metadata": {
      "needs_background": "light"
     },
     "output_type": "display_data"
    },
    {
     "name": "stdout",
     "output_type": "stream",
     "text": [
      "Min value of Boosts is:  0\n",
      "Max value of Boosts is:  33\n"
     ]
    }
   ],
   "source": [
    "visualization('boosts',num_bin=30)"
   ]
  },
  {
   "cell_type": "code",
   "execution_count": 41,
   "metadata": {},
   "outputs": [
    {
     "data": {
      "image/png": "[encoded data removed]",
      "text/plain": [
       "<Figure size 432x288 with 1 Axes>"
      ]
     },
     "metadata": {
      "needs_background": "light"
     },
     "output_type": "display_data"
    },
    {
     "name": "stdout",
     "output_type": "stream",
     "text": [
      "Min value of Heals is:  0\n",
      "Max value of Heals is:  80\n"
     ]
    }
   ],
   "source": [
    "visualization('heals', num_bin=100)"
   ]
  },
  {
   "cell_type": "code",
   "execution_count": 21,
   "metadata": {},
   "outputs": [],
   "source": [
    " # removing the outliers.\n",
    "\n",
    "#train\n",
    "df_train.drop(df_train[df_train.heals>=40].index,inplace=True)\n",
    "\n",
    "#test\n",
    "\n",
    "df_test.drop(df_test[df_test.heals>=40].index,inplace=True)"
   ]
  },
  {
   "cell_type": "code",
   "execution_count": 42,
   "metadata": {},
   "outputs": [
    {
     "data": {
      "image/png": "[encoded data removed]",
      "text/plain": [
       "<Figure size 432x288 with 1 Axes>"
      ]
     },
     "metadata": {
      "needs_background": "light"
     },
     "output_type": "display_data"
    },
    {
     "name": "stdout",
     "output_type": "stream",
     "text": [
      "Min value of WalkDistance is:  0.0\n",
      "Max value of WalkDistance is:  25776.0\n"
     ]
    }
   ],
   "source": [
    "visualization('walkDistance',num_bin=250)"
   ]
  },
  {
   "cell_type": "code",
   "execution_count": 22,
   "metadata": {},
   "outputs": [],
   "source": [
    " #Removing the outliers\n",
    "\n",
    "#train\n",
    "df_train.drop(df_train[df_train['walkDistance']>=10000].index,inplace=True)\n",
    "\n",
    "\n",
    "#test\n",
    "df_test.drop(df_test[df_test['walkDistance']>=10000].index,inplace=True)"
   ]
  },
  {
   "cell_type": "code",
   "execution_count": 43,
   "metadata": {},
   "outputs": [
    {
     "data": {
      "image/png": "[encoded data removed]",
      "text/plain": [
       "<Figure size 432x288 with 1 Axes>"
      ]
     },
     "metadata": {
      "needs_background": "light"
     },
     "output_type": "display_data"
    },
    {
     "name": "stdout",
     "output_type": "stream",
     "text": [
      "Min value of RideDistance is:  0.0\n",
      "Max value of RideDistance is:  40704.0\n"
     ]
    }
   ],
   "source": [
    "visualization('rideDistance',num_bin=500)"
   ]
  },
  {
   "cell_type": "code",
   "execution_count": 23,
   "metadata": {},
   "outputs": [],
   "source": [
    " #Removing the outliers.\n",
    "\n",
    "#test\n",
    "\n",
    "df_train.drop(df_train[df_train.rideDistance >=15000].index, inplace=True)\n",
    "\n",
    "#test\n",
    "\n",
    "df_test.drop(df_test[df_test.rideDistance >=15000].index, inplace=True)"
   ]
  },
  {
   "cell_type": "code",
   "execution_count": 49,
   "metadata": {},
   "outputs": [
    {
     "data": {
      "image/png": "[encoded data removed]",
      "text/plain": [
       "<Figure size 432x288 with 1 Axes>"
      ]
     },
     "metadata": {
      "needs_background": "light"
     },
     "output_type": "display_data"
    },
    {
     "name": "stdout",
     "output_type": "stream",
     "text": [
      "Min value of LongestKill is:  0.0\n",
      "Max value of LongestKill is:  1094.0\n"
     ]
    }
   ],
   "source": [
    "visualization('longestKill', num_bin=100) "
   ]
  },
  {
   "cell_type": "markdown",
   "metadata": {},
   "source": [
    " Most kills are made from a distance of 100 meters or closer. There are however some outliers who make a kill from more than 1km away. This is probably done by cheaters or game crackers. "
   ]
  },
  {
   "cell_type": "code",
   "execution_count": 24,
   "metadata": {},
   "outputs": [],
   "source": [
    "# drop outliers.      \n",
    "\n",
    "\n",
    "#train\n",
    "df_train.drop(df_train[df_train['longestKill']>=1000].index,inplace=True)\n",
    "\n",
    "#test\n",
    "\n",
    "df_test.drop(df_test[df_test['longestKill']>=1000].index,inplace=True)"
   ]
  },
  {
   "cell_type": "code",
   "execution_count": 25,
   "metadata": {},
   "outputs": [
    {
     "data": {
      "text/plain": [
       "(4445866, 29)"
      ]
     },
     "execution_count": 25,
     "metadata": {},
     "output_type": "execute_result"
    }
   ],
   "source": [
    "df_train.shape"
   ]
  },
  {
   "cell_type": "markdown",
   "metadata": {},
   "source": [
    " So the initial shape is (4446965, 29)And After removing the outliers the new shape is  (4445866, -) \n",
    " Something around 1100 rows have been removed until now. Which is nothing compared to the number of rows we have."
   ]
  },
  {
   "cell_type": "code",
   "execution_count": 66,
   "metadata": {},
   "outputs": [],
   "source": [
    "#So the initial shape is (4446965, 29)And After removing the outliers the new shape is (4445866, -) \n",
    "#Something around 1100 rows have been removed until now. Which is nothing compared to the number of rows we have."
   ]
  },
  {
   "cell_type": "code",
   "execution_count": 26,
   "metadata": {},
   "outputs": [],
   "source": [
    "# Creating a dummy variable for categorical variable present in our data set.\n",
    "#matchType\n",
    "#train\n",
    "\n",
    "df_train=pd.get_dummies(df_train,columns=['matchType'])\n",
    "\n",
    "#test\n",
    "\n",
    "df_test=pd.get_dummies(df_test,columns=['matchType'])"
   ]
  },
  {
   "cell_type": "code",
   "execution_count": 30,
   "metadata": {},
   "outputs": [],
   "source": [
    "#Correlation Analysis\n",
    "cols_to_drop = ['Id','matchId','groupId','matchType']\n",
    "cols_to_fit = [col for col in df_train.columns if col not in cols_to_drop]\n",
    "corr = df_train[cols_to_fit].corr()"
   ]
  },
  {
   "cell_type": "code",
   "execution_count": 31,
   "metadata": {},
   "outputs": [
    {
     "data": {
      "image/png": "[encoded data removed]",
      "text/plain": [
       "<Figure size 648x504 with 2 Axes>"
      ]
     },
     "metadata": {
      "needs_background": "light"
     },
     "output_type": "display_data"
    }
   ],
   "source": [
    "plt.figure(figsize=(9,7))\n",
    "sns.heatmap(corr,xticklabels=corr.columns.values,yticklabels=corr.columns.values,linecolor='white',linewidths=0.1,cmap='RdBu')\n",
    "plt.show()"
   ]
  },
  {
   "cell_type": "code",
   "execution_count": 32,
   "metadata": {},
   "outputs": [],
   "source": [
    "t = df_train\n",
    "t =t.drop(['Id','groupId','matchId',],axis=1)\n",
    "y = t['winPlacePerc']\n",
    "X = t.drop(['winPlacePerc'],axis=1)\n",
    "X_test = df_test.drop(['Id','groupId','matchId'],axis=1)"
   ]
  },
  {
   "cell_type": "code",
   "execution_count": 34,
   "metadata": {},
   "outputs": [],
   "source": [
    "#splitting the data into training and testing by using train_test_split\n",
    "X_train, X_val, y_train, y_val = train_test_split(X, y, train_size=0.7)\n",
    "len(X_train)\n",
    "\n",
    "del train,test,X,y\n",
    "\n",
    "#X_train = X\n",
    "#y_train = y\n",
    "gc.collect()"
   ]
  },
  {
   "cell_type": "markdown",
   "metadata": {},
   "source": [
    "# Model LightGBM"
   ]
  },
  {
   "cell_type": "code",
   "execution_count": 38,
   "metadata": {},
   "outputs": [],
   "source": [
    "import lightgbm as lgbm"
   ]
  },
  {
   "cell_type": "code",
   "execution_count": 36,
   "metadata": {},
   "outputs": [],
   "source": [
    "def calculate_error(cl,name):\n",
    "  print(name)\n",
    "  y_pre = cl.predict(X_val)\n",
    "  print('Mean Absolute Error is {:.5f}'.format(mean_absolute_error(y_val,y_pre)))\n",
    "  print('R2 score is {:.2%}'.format(r2_score(y_val, cl.predict(X_val))))"
   ]
  },
  {
   "cell_type": "code",
   "execution_count": 42,
   "metadata": {},
   "outputs": [
    {
     "name": "stderr",
     "output_type": "stream",
     "text": [
      "F:\\Softwares\\PythonWithanaconda\\lib\\site-packages\\lightgbm\\engine.py:118: UserWarning: Found `n_estimators` in params. Will use it instead of argument\n",
      "  warnings.warn(\"Found `{}` in params. Will use it instead of argument\".format(alias))\n",
      "F:\\Softwares\\PythonWithanaconda\\lib\\site-packages\\lightgbm\\engine.py:123: UserWarning: Found `early_stopping_rounds` in params. Will use it instead of argument\n",
      "  warnings.warn(\"Found `{}` in params. Will use it instead of argument\".format(alias))\n"
     ]
    },
    {
     "name": "stdout",
     "output_type": "stream",
     "text": [
      "Training until validation scores don't improve for 200 rounds.\n",
      "[1000]\ttraining's l1: 0.0565392\tvalid_1's l1: 0.0567965\n",
      "[2000]\ttraining's l1: 0.0558101\tvalid_1's l1: 0.0562844\n",
      "[3000]\ttraining's l1: 0.0553457\tvalid_1's l1: 0.056017\n",
      "[4000]\ttraining's l1: 0.0549721\tvalid_1's l1: 0.0558226\n",
      "[5000]\ttraining's l1: 0.0546162\tvalid_1's l1: 0.0556425\n",
      "[6000]\ttraining's l1: 0.0543008\tvalid_1's l1: 0.0554973\n",
      "[7000]\ttraining's l1: 0.0540163\tvalid_1's l1: 0.0553766\n",
      "[8000]\ttraining's l1: 0.0537518\tvalid_1's l1: 0.0552754\n",
      "[9000]\ttraining's l1: 0.053508\tvalid_1's l1: 0.0551922\n",
      "[10000]\ttraining's l1: 0.0532594\tvalid_1's l1: 0.0550999\n",
      "[11000]\ttraining's l1: 0.0530345\tvalid_1's l1: 0.0550279\n",
      "[12000]\ttraining's l1: 0.0528079\tvalid_1's l1: 0.0549512\n",
      "[13000]\ttraining's l1: 0.0526055\tvalid_1's l1: 0.0548926\n",
      "[14000]\ttraining's l1: 0.0523852\tvalid_1's l1: 0.0548318\n",
      "[15000]\ttraining's l1: 0.0521787\tvalid_1's l1: 0.0547781\n",
      "[16000]\ttraining's l1: 0.0519805\tvalid_1's l1: 0.0547255\n",
      "[17000]\ttraining's l1: 0.0518046\tvalid_1's l1: 0.0546902\n",
      "[18000]\ttraining's l1: 0.0516185\tvalid_1's l1: 0.0546473\n",
      "[19000]\ttraining's l1: 0.051419\tvalid_1's l1: 0.0545928\n",
      "[20000]\ttraining's l1: 0.0512346\tvalid_1's l1: 0.0545494\n",
      "Did not meet early stopping. Best iteration is:\n",
      "[20000]\ttraining's l1: 0.0512346\tvalid_1's l1: 0.0545494\n"
     ]
    }
   ],
   "source": [
    "# Create parameters to search\n",
    "params = {\"objective\" : \"regression\", \"metric\" : \"mae\", 'n_estimators':20000, \n",
    "              'early_stopping_rounds':200, \"num_leaves\" : 31, \"learning_rate\" : 0.05, \n",
    "              \"bagging_fraction\" : 0.7, \"bagging_seed\" : 0, \"num_threads\" : 4,\n",
    "              \"colsample_bytree\" : 0.7\n",
    "             }\n",
    "lgbTrain = lgbm.Dataset(X_train, label=y_train)\n",
    "lgbVal = lgbm.Dataset(X_val, label=y_val)\n",
    "model = lgbm.train(params,lgbTrain,valid_sets=[lgbTrain, lgbVal],\n",
    "                      early_stopping_rounds=200, verbose_eval=1000)\n"
   ]
  },
  {
   "cell_type": "code",
   "execution_count": 45,
   "metadata": {},
   "outputs": [
    {
     "name": "stdout",
     "output_type": "stream",
     "text": [
      "LGBM\n",
      "Mean Absolute Error is 0.05455\n",
      "R2 score is 93.75%\n"
     ]
    }
   ],
   "source": [
    "calculate_error(model,\"LGBM\")"
   ]
  },
  {
   "cell_type": "code",
   "execution_count": 47,
   "metadata": {},
   "outputs": [],
   "source": [
    "y_predict = model.predict(X_test)"
   ]
  },
  {
   "cell_type": "code",
   "execution_count": 52,
   "metadata": {},
   "outputs": [],
   "source": [
    "y_predict[y_predict > 1] = 1\n",
    "y_predict[y_predict < 0] = 0\n",
    "df_test['winPlacePerc'] = y_predict\n",
    "submission = df_test[['Id', 'winPlacePerc']]\n",
    "submission.to_csv('Finalsubmission.csv', index=False)"
   ]
  },
  {
   "cell_type": "code",
   "execution_count": 55,
   "metadata": {},
   "outputs": [
    {
     "data": {
      "image/png": "[encoded data removed]",
      "text/plain": [
       "<Figure size 720x432 with 1 Axes>"
      ]
     },
     "metadata": {
      "needs_background": "light"
     },
     "output_type": "display_data"
    }
   ],
   "source": [
    "#find which feature importance\n",
    "cols_to_drop = ['Id', 'groupId', 'matchId', 'winPlacePerc']\n",
    "cols_to_fit = [col for col in X_train.columns if col not in cols_to_drop]\n",
    "feature_importance = pd.DataFrame(sorted(zip(model.feature_importance(), cols_to_fit)), columns=['Value','Feature'])\n",
    "feature_importance = feature_importance.tail(15)\n",
    "\n",
    "\n",
    "plt.figure(figsize=(10, 6))\n",
    "sns.barplot(x=\"Value\", y=\"Feature\", data=feature_importance.sort_values(by=\"Value\", ascending=False))\n",
    "plt.title('LightGBM Features (avg over folds)')\n",
    "plt.tight_layout()\n",
    "plt.savefig(\"lgbmfeatures.png\",dpi=500)"
   ]
  },
  {
   "cell_type": "markdown",
   "metadata": {},
   "source": [
    "# Regression Models"
   ]
  },
  {
   "cell_type": "code",
   "execution_count": 57,
   "metadata": {},
   "outputs": [],
   "source": [
    "def runAllModels(X_train, Y_train):\n",
    "        \n",
    "    linear = LinearRegression(copy_X=True)\n",
    "    linear.fit(X_train,Y_train)\n",
    "    calculate_error(linear,\"linear\")\n",
    "\n",
    "    ridge = Ridge(copy_X=True)\n",
    "    ridge.fit(X_train,Y_train)\n",
    "    calculate_error(ridge,\"ridge\")\n",
    "    \n",
    "    lasso = Lasso(copy_X=True)\n",
    "    lasso.fit(X_train,Y_train)\n",
    "    calculate_error(lasso,\"lasso\")\n",
    "    \n",
    "    elastic = ElasticNet(copy_X=True)\n",
    "    elastic.fit(X_train,Y_train)\n",
    "    calculate_error(elastic,\"elastic\")\n",
    "    \n",
    "    ada = AdaBoostRegressor(learning_rate=0.8)\n",
    "    ada.fit(X_train,Y_train)\n",
    "    calculate_error(ada,\"Adaboost\")\n",
    "    \n",
    "    GBR = GradientBoostingRegressor(learning_rate=0.8)\n",
    "    GBR.fit(X_train,Y_train)\n",
    "    calculate_error(GBR,\"GBR\")\n",
    "\n",
    "    forest = RandomForestRegressor(n_estimators=10)\n",
    "    forest.fit(X_train,Y_train)\n",
    "    calculate_error(forest,\"forest\")\n",
    "    \n",
    "    tree = DecisionTreeRegressor()\n",
    "    tree.fit(X_train,Y_train)\n",
    "    calculate_error(tree,\"tree\")"
   ]
  },
  {
   "cell_type": "code",
   "execution_count": 58,
   "metadata": {},
   "outputs": [
    {
     "name": "stdout",
     "output_type": "stream",
     "text": [
      "linear\n",
      "Mean Absolute Error is 0.08977\n",
      "R2 score is 84.04%\n",
      "ridge\n",
      "Mean Absolute Error is 0.08977\n",
      "R2 score is 84.04%\n",
      "lasso\n",
      "Mean Absolute Error is 0.12083\n",
      "R2 score is 74.53%\n",
      "elastic\n",
      "Mean Absolute Error is 0.11297\n",
      "R2 score is 77.17%\n",
      "Adaboost\n",
      "Mean Absolute Error is 0.09976\n",
      "R2 score is 81.58%\n",
      "GBR\n",
      "Mean Absolute Error is 0.06176\n",
      "R2 score is 92.21%\n",
      "forest\n",
      "Mean Absolute Error is 0.06063\n",
      "R2 score is 92.26%\n",
      "tree\n",
      "Mean Absolute Error is 0.08118\n",
      "R2 score is 85.64%\n"
     ]
    }
   ],
   "source": [
    "runAllModels(X_train,y_train)"
   ]
  },
  {
   "cell_type": "code",
   "execution_count": null,
   "metadata": {},
   "outputs": [],
   "source": []
  }
 ],
 "metadata": {
  "kernelspec": {
   "display_name": "Python 3",
   "language": "python",
   "name": "python3"
  },
  "language_info": {
   "codemirror_mode": {
    "name": "ipython",
    "version": 3
   },
   "file_extension": ".py",
   "mimetype": "text/x-python",
   "name": "python",
   "nbconvert_exporter": "python",
   "pygments_lexer": "ipython3",
   "version": "3.7.3"
  }
 },
 "nbformat": 4,
 "nbformat_minor": 2
}
